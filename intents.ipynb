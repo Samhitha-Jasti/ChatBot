{
  "nbformat": 4,
  "nbformat_minor": 0,
  "metadata": {
    "colab": {
      "name": "intents.ipynb",
      "provenance": [],
      "authorship_tag": "ABX9TyOvmP73mYglq1Mt+BGOnAqm",
      "include_colab_link": true
    },
    "kernelspec": {
      "name": "python3",
      "display_name": "Python 3"
    },
    "language_info": {
      "name": "python"
    }
  },
  "cells": [
    {
      "cell_type": "markdown",
      "metadata": {
        "id": "view-in-github",
        "colab_type": "text"
      },
      "source": [
        "<a href=\"https://colab.research.google.com/github/Samhitha-Jasti/ChatBot/blob/main/intents.ipynb\" target=\"_parent\"><img src=\"https://colab.research.google.com/assets/colab-badge.svg\" alt=\"Open In Colab\"/></a>"
      ]
    },
    {
      "cell_type": "code",
      "metadata": {
        "id": "2SifCpRaagpX"
      },
      "source": [
        "{\n",
        "    \"intents\": [\n",
        "      {\n",
        "        \"tag\": \"greeting\",\n",
        "        \"patterns\": [\n",
        "          \"Hi\",\n",
        "          \"Hey\",\n",
        "          \"How are you\",\n",
        "          \"Is anyone there?\",\n",
        "          \"Hello\",\n",
        "          \"Good day\"\n",
        "        ],\n",
        "        \"responses\": [\n",
        "          \"Hey :-)\",\n",
        "          \"Hello, thanks for visiting\",\n",
        "          \"Hi there, what can I do for you?\",\n",
        "          \"Hi there, how can I help?\"\n",
        "        ]\n",
        "      },\n",
        "      {\n",
        "        \"tag\": \"goodbye\",\n",
        "        \"patterns\": [\"Bye\", \"See you later\", \"Goodbye\"],\n",
        "        \"responses\": [\n",
        "          \"See you later, thanks for visiting\",\n",
        "          \"Have a nice day\",\n",
        "          \"Bye! Come back again soon.\"\n",
        "        ]\n",
        "      },\n",
        "      {\n",
        "        \"tag\": \"thanks\",\n",
        "        \"patterns\": [\"Thanks\", \"Thank you\", \"That's helpful\", \"Thank's a lot!\"],\n",
        "        \"responses\": [\"Happy to help!\", \"Any time!\", \"My pleasure\"]\n",
        "      },\n",
        "      {\n",
        "        \"tag\": \"items\",\n",
        "        \"patterns\": [\n",
        "          \"Which items do you have?\",\n",
        "          \"What kinds of items are there?\",\n",
        "          \"What do you sell?\"\n",
        "        ],\n",
        "        \"responses\": [\n",
        "          \"We sell coffee and tea\",\n",
        "          \"We have coffee and tea\"\n",
        "        ]\n",
        "      },\n",
        "      {\n",
        "        \"tag\": \"payments\",\n",
        "        \"patterns\": [\n",
        "          \"Do you take credit cards?\",\n",
        "          \"Do you accept Mastercard?\",\n",
        "          \"Can I pay with Paypal?\",\n",
        "          \"Are you cash only?\"\n",
        "        ],\n",
        "        \"responses\": [\n",
        "          \"We accept VISA, Mastercard and Paypal\",\n",
        "          \"We accept most major credit cards, and Paypal\"\n",
        "        ]\n",
        "      },\n",
        "      {\n",
        "        \"tag\": \"delivery\",\n",
        "        \"patterns\": [\n",
        "          \"How long does delivery take?\",\n",
        "          \"How long does shipping take?\",\n",
        "          \"When do I get my delivery?\"\n",
        "        ],\n",
        "        \"responses\": [\n",
        "          \"Delivery takes 2-4 days\",\n",
        "          \"Shipping takes 2-4 days\"\n",
        "        ]\n",
        "      },\n",
        "      {\n",
        "        \"tag\": \"funny\",\n",
        "        \"patterns\": [\n",
        "          \"Tell me a joke!\",\n",
        "          \"Tell me something funny!\",\n",
        "          \"Do you know a joke?\"\n",
        "        ],\n",
        "        \"responses\": [\n",
        "          \"Why did the hipster burn his mouth? He drank the coffee before it was cool.\",\n",
        "          \"What did the buffalo say when his son left for college? Bison.\"\n",
        "        ]\n",
        "      }\n",
        "    ]\n",
        "  }"
      ],
      "execution_count": null,
      "outputs": []
    },
    {
      "cell_type": "markdown",
      "metadata": {
        "id": "2ATlpbKJb7fw"
      },
      "source": [
        "# New Section"
      ]
    },
    {
      "cell_type": "code",
      "metadata": {
        "id": "jpkQceo6bHlf"
      },
      "source": [
        ""
      ],
      "execution_count": null,
      "outputs": []
    },
    {
      "cell_type": "code",
      "metadata": {
        "id": "U2tL1jFLbOOE"
      },
      "source": [
        ""
      ],
      "execution_count": null,
      "outputs": []
    }
  ]
}