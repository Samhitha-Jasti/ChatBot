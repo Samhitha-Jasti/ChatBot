{
 "cells": [
  {
   "cell_type": "code",
   "execution_count": 4,
   "id": "1cac499c",
   "metadata": {},
   "outputs": [],
   "source": [
    "#%run Untitled5.ipynb import intents"
   ]
  },
  {
   "cell_type": "code",
   "execution_count": null,
   "id": "550d884f",
   "metadata": {},
   "outputs": [],
   "source": [
    "import nltk\n",
    "import torch\n",
    "import numpy as np\n",
    "from nltk.stem.porter import PorterStemmer\n",
    "stemmer=PorterStemmer()\n",
    "def tokenize(sentence):\n",
    "    return nltk.word_tokenize(sentence)\n",
    "def stem(word):\n",
    "    return stemmer.stem(word.lower())\n",
    "def bag_of_words(tokenized_sentence,all_words):\n",
    "    tokenized_sentence=[stem(w) for w in tokenized_sentence]\n",
    "    bag=np.zeros(len(all_words),dtype=np.float32)\n",
    "    for idx,w in enumerate(all_words):\n",
    "        if w in tokenized_sentence:\n",
    "            bag[idx]=1.0\n",
    "    return bag\n",
    "sentence=[\"hello\",\"how\",\"are\",\"you\"]\n",
    "words=[\"hi\",\"hello\",\"I\",\"you\",\"bye\",\"thanks\",\"cool\"]\n",
    "bag=bag_of_words(sentence,words)\n",
    "print(bag)\n",
    "a=\"Hi there, how can I help?\"\n",
    "print(a)\n",
    "a=tokenize(a)\n",
    "print(a)"
   ]
  },
  {
   "cell_type": "code",
   "execution_count": 20,
   "id": "e99f14e3",
   "metadata": {},
   "outputs": [
    {
     "name": "stdout",
     "output_type": "stream",
     "text": [
      "['organ', 'organis', 'organis', 'organdonor']\n"
     ]
    }
   ],
   "source": [
    "'''words=[\"organ\",\"organise\",\"organisation\",\"organdonor\"]\n",
    "stemmed_Words=[stem(w) for w in words]\n",
    "print(stemmed_Words)'''"
   ]
  },
  {
   "cell_type": "code",
   "execution_count": null,
   "id": "a1258de1",
   "metadata": {},
   "outputs": [],
   "source": [
    "'''\n",
    "words2=[\"organize\",\"organizes\",\"organizing\"]\n",
    "stemmed_Words2=[stem(w) for w in words2]\n",
    "print(stemmed_Words2) '''"
   ]
  },
  {
   "cell_type": "code",
   "execution_count": null,
   "id": "5affeaa1",
   "metadata": {},
   "outputs": [],
   "source": [
    "import json\n",
    "intents = json.loads(open('intents.json', encoding='utf-8').read())"
   ]
  },
  {
   "cell_type": "code",
   "execution_count": null,
   "id": "3a684be5",
   "metadata": {},
   "outputs": [],
   "source": [
    "print(intents)"
   ]
  },
  {
   "cell_type": "code",
   "execution_count": 47,
   "id": "259b4234",
   "metadata": {},
   "outputs": [],
   "source": [
    "import torch\n",
    "import torch.nn as nn\n",
    "class NeuralNet(nn.Module):\n",
    "    def __init__(self,input_size,hidden_size,num_classes):\n",
    "        super(NeuralNet,self).__init__()\n",
    "        self.l1=nn.Linear(input_size,hidden_size)\n",
    "        self.l2=nn.Linear(hidden_size,hidden_size)\n",
    "        self.l3=nn.Linear(hidden_size,num_classes)\n",
    "        self.relu=nn.ReLU()\n",
    "    def forward(self,x):\n",
    "        out=self.l1(x)\n",
    "        out=self.relu(out)\n",
    "        out=self.l2(out)\n",
    "        out=self.relu(out)\n",
    "        out=self.l3(out)\n",
    "        return out"
   ]
  },
  {
   "cell_type": "code",
   "execution_count": 52,
   "id": "feffcef1",
   "metadata": {},
   "outputs": [
    {
     "name": "stdout",
     "output_type": "stream",
     "text": [
      "26 patterns\n",
      "7 tags: ['delivery', 'funny', 'goodbye', 'greeting', 'items', 'payments', 'thanks']\n",
      "54 unique stemmed words: [\"'s\", 'a', 'accept', 'anyon', 'are', 'bye', 'can', 'card', 'cash', 'credit', 'day', 'deliveri', 'do', 'doe', 'funni', 'get', 'good', 'goodby', 'have', 'hello', 'help', 'hey', 'hi', 'how', 'i', 'is', 'item', 'joke', 'kind', 'know', 'later', 'long', 'lot', 'mastercard', 'me', 'my', 'of', 'onli', 'pay', 'paypal', 'see', 'sell', 'ship', 'someth', 'take', 'tell', 'thank', 'that', 'there', 'what', 'when', 'which', 'with', 'you']\n",
      "54 7\n",
      "Epoch [100/1000], Loss: 1.6405\n",
      "Epoch [200/1000], Loss: 0.1731\n",
      "Epoch [300/1000], Loss: 0.0712\n",
      "Epoch [400/1000], Loss: 0.0266\n",
      "Epoch [500/1000], Loss: 0.0046\n",
      "Epoch [600/1000], Loss: 0.0063\n",
      "Epoch [700/1000], Loss: 0.0059\n",
      "Epoch [800/1000], Loss: 0.0010\n",
      "Epoch [900/1000], Loss: 0.0030\n",
      "Epoch [1000/1000], Loss: 0.0003\n",
      "final loss: 0.0003\n"
     ]
    }
   ],
   "source": [
    "import numpy as np\n",
    "import random\n",
    "import json\n",
    "\n",
    "import torch\n",
    "import torch.nn as nn\n",
    "\n",
    "with open('intents.json', 'r') as f:\n",
    "    intents = json.load(f)\n",
    "\n",
    "all_words = []\n",
    "tags = []\n",
    "xy = []\n",
    "# loop through each sentence in our intents patterns\n",
    "for intent in intents['intents']:\n",
    "    tag = intent['tag']\n",
    "    # add to tag list\n",
    "    tags.append(tag)\n",
    "    for pattern in intent['patterns']:\n",
    "        # tokenize each word in the sentence\n",
    "        w = tokenize(pattern)\n",
    "        # add to our words list\n",
    "        all_words.extend(w)\n",
    "        # add to xy pair\n",
    "        xy.append((w, tag))\n",
    "\n",
    "# stem and lower each word\n",
    "ignore_words = ['?', '.', '!']\n",
    "all_words = [stem(w) for w in all_words if w not in ignore_words]\n",
    "# remove duplicates and sort\n",
    "all_words = sorted(set(all_words))\n",
    "tags = sorted(set(tags))\n",
    "\n",
    "print(len(xy), \"patterns\")\n",
    "print(len(tags), \"tags:\", tags)\n",
    "print(len(all_words), \"unique stemmed words:\", all_words)\n",
    "\n",
    "# create training data\n",
    "X_train = []\n",
    "y_train = []\n",
    "for (pattern_sentence, tag) in xy:\n",
    "    # X: bag of words for each pattern_sentence\n",
    "    bag = bag_of_words(pattern_sentence, all_words)\n",
    "    X_train.append(bag)\n",
    "    # y: PyTorch CrossEntropyLoss needs only class labels, not one-hot\n",
    "    label = tags.index(tag)\n",
    "    y_train.append(label)\n",
    "\n",
    "X_train = np.array(X_train)\n",
    "y_train = np.array(y_train)\n",
    "\n",
    "# Hyper-parameters \n",
    "num_epochs = 1000\n",
    "batch_size = 8\n",
    "learning_rate = 0.001\n",
    "input_size = len(X_train[0])\n",
    "hidden_size = 8\n",
    "output_size = len(tags)\n",
    "print(input_size, output_size)\n",
    "\n",
    "class ChatDataset(Dataset):\n",
    "\n",
    "    def __init__(self):\n",
    "        self.n_samples = len(X_train)\n",
    "        self.x_data = X_train\n",
    "        self.y_data = y_train\n",
    "\n",
    "    # support indexing such that dataset[i] can be used to get i-th sample\n",
    "    def __getitem__(self, index):\n",
    "        return self.x_data[index], self.y_data[index]\n",
    "\n",
    "    # we can call len(dataset) to return the size\n",
    "    def __len__(self):\n",
    "        return self.n_samples\n",
    "\n",
    "dataset = ChatDataset()\n",
    "train_loader = DataLoader(dataset=dataset,\n",
    "                          batch_size=batch_size,\n",
    "                          shuffle=True,\n",
    "                          num_workers=0)\n",
    "\n",
    "device = torch.device('cuda' if torch.cuda.is_available() else 'cpu')\n",
    "\n",
    "model = NeuralNet(input_size, hidden_size, output_size).to(device)\n",
    "\n",
    "# Loss and optimizer\n",
    "criterion = nn.CrossEntropyLoss()\n",
    "optimizer = torch.optim.Adam(model.parameters(), lr=learning_rate)\n",
    "\n",
    "# Train the model\n",
    "for epoch in range(num_epochs):\n",
    "    for (words, labels) in train_loader:\n",
    "        words = words.to(device)\n",
    "        labels = labels.to(dtype=torch.long).to(device)\n",
    "        \n",
    "        # Forward pass\n",
    "        outputs = model(words)\n",
    "        # if y would be one-hot, we must apply\n",
    "        # labels = torch.max(labels, 1)[1]\n",
    "        loss = criterion(outputs, labels)\n",
    "        \n",
    "        # Backward and optimize\n",
    "        optimizer.zero_grad()\n",
    "        loss.backward()\n",
    "        optimizer.step()\n",
    "        \n",
    "    if (epoch+1) % 100 == 0:\n",
    "        print (f'Epoch [{epoch+1}/{num_epochs}], Loss: {loss.item():.4f}')\n",
    "\n",
    "\n",
    "print(f'final loss: {loss.item():.4f}')\n",
    "\n",
    "data={\n",
    "    \"model_state\":model.state_dict(),\n",
    "    \"input_size\":input_size,\n",
    "    \"output_size\":output_size,\n",
    "    \"hidden_size\":hidden_size,\n",
    "    \"all_words\":all_words,\n",
    "    \"tags\":tags\n",
    "}\n"
   ]
  },
  {
   "cell_type": "code",
   "execution_count": 51,
   "id": "f45bb05c",
   "metadata": {},
   "outputs": [
    {
     "name": "stdout",
     "output_type": "stream",
     "text": [
      "training complete. file saved to data.pth\n"
     ]
    }
   ],
   "source": [
    "FILE=\"data.pth\"\n",
    "torch.save(data,FILE)\n",
    "\n",
    "print(f'training complete. file saved to {FILE}')"
   ]
  },
  {
   "cell_type": "code",
   "execution_count": 44,
   "id": "9619d936",
   "metadata": {},
   "outputs": [
    {
     "name": "stdout",
     "output_type": "stream",
     "text": [
      "C:\\Anaconda\\python.exe\n"
     ]
    }
   ],
   "source": [
    "import sys\n",
    "print(sys.executable)"
   ]
  },
  {
   "cell_type": "code",
   "execution_count": 45,
   "id": "56e5043d",
   "metadata": {},
   "outputs": [
    {
     "data": {
      "text/plain": [
       "['C:\\\\Users\\\\ANJANI SAMHITHA',\n",
       " 'C:\\\\Anaconda\\\\python38.zip',\n",
       " 'C:\\\\Anaconda\\\\DLLs',\n",
       " 'C:\\\\Anaconda\\\\lib',\n",
       " 'C:\\\\Anaconda',\n",
       " '',\n",
       " 'C:\\\\Anaconda\\\\lib\\\\site-packages',\n",
       " 'C:\\\\Anaconda\\\\lib\\\\site-packages\\\\locket-0.2.1-py3.8.egg',\n",
       " 'C:\\\\Anaconda\\\\lib\\\\site-packages\\\\win32',\n",
       " 'C:\\\\Anaconda\\\\lib\\\\site-packages\\\\win32\\\\lib',\n",
       " 'C:\\\\Anaconda\\\\lib\\\\site-packages\\\\Pythonwin',\n",
       " 'C:\\\\Anaconda\\\\lib\\\\site-packages\\\\IPython\\\\extensions',\n",
       " 'C:\\\\Users\\\\ANJANI SAMHITHA\\\\.ipython']"
      ]
     },
     "execution_count": 45,
     "metadata": {},
     "output_type": "execute_result"
    }
   ],
   "source": [
    "sys.path"
   ]
  },
  {
   "cell_type": "code",
   "execution_count": 16,
   "id": "276525ab",
   "metadata": {},
   "outputs": [],
   "source": [
    "class NeuralNet(nn.Module):\n",
    "    def _init_(self,input_size,hidden_size,num_classes):\n",
    "        super(NeuralNet,self)._init_()\n",
    "        self.l1=nn.Linear(input_size,hidden_size)\n",
    "        self.l2=nn.Linear(hidden_size,hidden_size)\n",
    "        self.l3=nn.Linear(hidden_size,num_classes)\n",
    "        self.relu=nn.ReLU()\n",
    "    def forward(self,x):\n",
    "        out=self.l1(x)\n",
    "        out=self.relu(out)\n",
    "        out=self.l2(out)\n",
    "        out=self.relu(out)\n",
    "        out=self.l3(out)\n",
    "        return out"
   ]
  },
  {
   "cell_type": "code",
   "execution_count": null,
   "id": "f8b8c68b",
   "metadata": {},
   "outputs": [
    {
     "name": "stdout",
     "output_type": "stream",
     "text": [
      "Let's chat! type 'quit' to exit\n",
      "You: hi\n",
      "Liam: Hey :-)\n",
      "You: what do you sell\n",
      "Liam: We sell coffee and tea\n",
      "You: how long shipping takes?\n",
      "Liam: Shipping takes 2-4 days\n",
      "You: can you help me?\n",
      "Liam:I donot understand...\n",
      "You: bye\n",
      "Liam: See you later, thanks for visiting\n"
     ]
    }
   ],
   "source": [
    "import random\n",
    "import json\n",
    "import torch\n",
    "device=torch.device('cuda' if torch.cuda.is_available() else 'cpu')\n",
    "with open('intents.json','r') as f:\n",
    "    intents=json.load(f)\n",
    "FILE=\"data.pth\"\n",
    "data=torch.load(FILE)\n",
    "input_size=data[\"input_size\"]\n",
    "hidden_size=data[\"hidden_size\"]\n",
    "output_size=data[\"output_size\"]\n",
    "all_words=data[\"all_words\"]\n",
    "tags=data[\"tags\"]\n",
    "model_state=data[\"model_state\"]\n",
    "model=NeuralNet(input_size,hidden_size,output_size).to(device)\n",
    "model.load_state_dict(model_state)\n",
    "model.eval()\n",
    "\n",
    "bot_name=\"Liam\"\n",
    "print(\"Let's chat! type 'quit' to exit\")\n",
    "while True:\n",
    "    sentence=input('You: ')\n",
    "    if sentence==\"quit\":\n",
    "        break\n",
    "    sentence=tokenize(sentence)\n",
    "    X=bag_of_words(sentence,all_words)\n",
    "    X=X.reshape(1,X.shape[0])\n",
    "    X=torch.from_numpy(X).to(device)\n",
    "    \n",
    "    output=model(X)\n",
    "    _, predicted=torch.max(output,dim=1)\n",
    "    tag=tags[predicted.item()]\n",
    "    \n",
    "    probs=torch.softmax(output,dim=1)\n",
    "    prob=probs[0][predicted.item()]\n",
    "    \n",
    "    if prob.item()>0.75:\n",
    "        for intent in intents[\"intents\"]:\n",
    "            if tag==intent[\"tag\"]:\n",
    "                print(f\"{bot_name}: {random.choice(intent['responses'])}\")\n",
    "    else:\n",
    "        print(f\"{bot_name}:I donot understand...\")\n",
    "    "
   ]
  },
  {
   "cell_type": "code",
   "execution_count": null,
   "id": "4e50b6ff",
   "metadata": {},
   "outputs": [],
   "source": []
  }
 ],
 "metadata": {
  "kernelspec": {
   "display_name": "Python 3",
   "language": "python",
   "name": "python3"
  },
  "language_info": {
   "codemirror_mode": {
    "name": "ipython",
    "version": 3
   },
   "file_extension": ".py",
   "mimetype": "text/x-python",
   "name": "python",
   "nbconvert_exporter": "python",
   "pygments_lexer": "ipython3",
   "version": "3.8.8"
  }
 },
 "nbformat": 4,
 "nbformat_minor": 5
}
